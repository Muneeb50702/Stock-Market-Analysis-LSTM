{
 "cells": [
  {
   "cell_type": "code",
   "execution_count": 1,
   "id": "d105d929-ab64-40e7-a0a4-56dbef93a86f",
   "metadata": {},
   "outputs": [
    {
     "ename": "ModuleNotFoundError",
     "evalue": "No module named 'yfinance'",
     "output_type": "error",
     "traceback": [
      "\u001b[0;31m---------------------------------------------------------------------------\u001b[0m",
      "\u001b[0;31mModuleNotFoundError\u001b[0m                       Traceback (most recent call last)",
      "Cell \u001b[0;32mIn[1], line 1\u001b[0m\n\u001b[0;32m----> 1\u001b[0m \u001b[38;5;28;01mimport\u001b[39;00m \u001b[38;5;21;01myfinance\u001b[39;00m \u001b[38;5;28;01mas\u001b[39;00m \u001b[38;5;21;01myf\u001b[39;00m\n\u001b[1;32m      2\u001b[0m \u001b[38;5;28;01mimport\u001b[39;00m \u001b[38;5;21;01mtalib\u001b[39;00m\n\u001b[1;32m      3\u001b[0m \u001b[38;5;28;01mimport\u001b[39;00m \u001b[38;5;21;01mnumpy\u001b[39;00m \u001b[38;5;28;01mas\u001b[39;00m \u001b[38;5;21;01mnp\u001b[39;00m\n",
      "\u001b[0;31mModuleNotFoundError\u001b[0m: No module named 'yfinance'"
     ]
    }
   ],
   "source": [
    "import yfinance as yf\n",
    "import talib\n",
    "import numpy as np\n",
    "import pandas as pd\n",
    "from tensorflow.keras.models import load_model\n",
    "import json\n",
    "from sklearn.preprocessing import MinMaxScaler"
   ]
  },
  {
   "cell_type": "code",
   "execution_count": 63,
   "id": "8035f48a-60fd-48b8-977e-eba9a11cec4d",
   "metadata": {},
   "outputs": [],
   "source": [
    "current_ticker = 'NVDA' \n",
    "stock = yf.Ticker(current_ticker)\n",
    "df = stock.history(period=\"80d\", interval=\"1d\")\n",
    "df = df.reset_index()"
   ]
  },
  {
   "cell_type": "code",
   "execution_count": 64,
   "id": "531a9f4e-d6d2-4f5e-9baa-532fb5c88c75",
   "metadata": {},
   "outputs": [
    {
     "data": {
      "text/plain": [
       "(80, 8)"
      ]
     },
     "execution_count": 64,
     "metadata": {},
     "output_type": "execute_result"
    }
   ],
   "source": [
    "df.shape"
   ]
  },
  {
   "cell_type": "code",
   "execution_count": 65,
   "id": "bf7ccfe8-e211-4507-8fab-e7251a6379da",
   "metadata": {},
   "outputs": [],
   "source": [
    "feature_cols = ['Open', 'Volume', 'SMA_10', 'SMA_50', 'EMA_20',\n",
    "               'MACD', 'MACD_signal', 'RSI', 'BB_upper',\n",
    "               'BB_lower', 'slowk', 'slowd', 'Ticker_AAPL', 'Ticker_AMZN',\n",
    "               'Ticker_BRK-B', 'Ticker_GOOGL', 'Ticker_JPM', 'Ticker_META',\n",
    "               'Ticker_MSFT', 'Ticker_NVDA', 'Ticker_TSLA', 'Ticker_V',\n",
    "               'Month_sin', 'Month_cos', 'Day_sin', 'Day_cos']\n",
    "\n",
    "target_cols = ['High', 'Low', 'Close']\n",
    "\n",
    "ticker_cols = ['Ticker_AAPL', 'Ticker_AMZN', 'Ticker_BRK-B', 'Ticker_GOOGL', \n",
    "                'Ticker_JPM', 'Ticker_META', 'Ticker_MSFT', 'Ticker_NVDA', \n",
    "                'Ticker_TSLA', 'Ticker_V']"
   ]
  },
  {
   "cell_type": "code",
   "execution_count": 66,
   "id": "a2c4ff51-a6f3-4f2e-9008-0020ad31c269",
   "metadata": {},
   "outputs": [],
   "source": [
    "df['SMA_10'] = talib.SMA(df['Close'], timeperiod=10)\n",
    "df['SMA_50'] = talib.SMA(df['Close'], timeperiod=50)\n",
    "df['EMA_20'] = talib.EMA(df['Close'], timeperiod=20)\n",
    "df['MACD'], df['MACD_signal'], df['MACD_hist'] = talib.MACD(df['Close'])\n",
    "df['RSI'] = talib.RSI(df['Close'], timeperiod=14)\n",
    "df['BB_upper'], df['BB_middle'], df['BB_lower'] = talib.BBANDS(df['Close'], timeperiod=20)\n",
    "df['slowk'], df['slowd'] = talib.STOCH(df['High'], df['Low'], df['Close'])\n"
   ]
  },
  {
   "cell_type": "code",
   "execution_count": 67,
   "id": "c7aa886c-12b9-423e-9d01-24e88d9cc62c",
   "metadata": {},
   "outputs": [],
   "source": [
    "for ticker in ticker_cols:\n",
    "    df[ticker] = 1 if ticker == f'Ticker_{current_ticker}' else 0\n"
   ]
  },
  {
   "cell_type": "code",
   "execution_count": 68,
   "id": "895bcc62-7dac-43d5-b62b-b06be392f9e7",
   "metadata": {},
   "outputs": [],
   "source": [
    "df['Date'] = pd.to_datetime(df['Date'], utc=True)\n",
    "df['Month'] = df['Date'].dt.month\n",
    "df['Day'] = df['Date'].dt.day\n",
    "\n",
    "df['Month_sin'] = np.sin(2 * np.pi * df['Month'] / 12)\n",
    "df['Month_cos'] = np.cos(2 * np.pi * df['Month'] / 12)\n",
    "\n",
    "df['Day_sin'] = np.sin(2 * np.pi * df['Day'] / 31)\n",
    "df['Day_cos'] = np.cos(2 * np.pi * df['Day'] / 31)\n"
   ]
  },
  {
   "cell_type": "code",
   "execution_count": 69,
   "id": "83604131-a509-4dc2-b25d-d5cb18b40dc4",
   "metadata": {},
   "outputs": [],
   "source": [
    "df = df.drop(columns=['Dividends','Stock Splits', 'MACD_hist', 'BB_middle', 'Day', 'Month'])\n"
   ]
  },
  {
   "cell_type": "code",
   "execution_count": 70,
   "id": "24ded68f-9ca6-438b-aae4-e6859fe4de1a",
   "metadata": {},
   "outputs": [],
   "source": [
    "df = df.dropna()\n"
   ]
  },
  {
   "cell_type": "code",
   "execution_count": 71,
   "id": "6c79f3bc-1004-4595-b64a-21c2b03c4ec6",
   "metadata": {},
   "outputs": [],
   "source": [
    "df = df.sort_values(by='Date').reset_index(drop=True)"
   ]
  },
  {
   "cell_type": "code",
   "execution_count": 72,
   "id": "254f8c09-c519-4dba-8c26-8dd6cd9baa7a",
   "metadata": {},
   "outputs": [],
   "source": [
    "df = df.drop(['Date'], axis = 1)"
   ]
  },
  {
   "cell_type": "code",
   "execution_count": 73,
   "id": "29f1c2fb-4e06-4dfb-9178-fda99662511f",
   "metadata": {},
   "outputs": [],
   "source": [
    "target = df[target_cols].copy()\n",
    "df.drop(columns=target_cols, inplace=True)\n",
    "df = df.drop(df.index[-1])"
   ]
  },
  {
   "cell_type": "code",
   "execution_count": 83,
   "id": "f365e501-bac4-4215-a0f5-aa539975939b",
   "metadata": {},
   "outputs": [],
   "source": [
    "last_10_timesteps = df[-10:]  # Shape will be (10, 26)"
   ]
  },
  {
   "cell_type": "code",
   "execution_count": 75,
   "id": "7ebc798b-07f7-476b-8058-ec23e8b1e520",
   "metadata": {},
   "outputs": [],
   "source": [
    "X_input = np.reshape(last_10_timesteps, (1, 10, 26))  # Shape: (1, 10, 26)"
   ]
  },
  {
   "cell_type": "code",
   "execution_count": 77,
   "id": "54752bfd-c838-4122-884c-72c4373a4cd4",
   "metadata": {},
   "outputs": [],
   "source": [
    "import numpy as np\n",
    "import pickle\n",
    "\n",
    "# Load scalers\n",
    "with open('x_scaler_minmax.pkl', 'rb') as f:\n",
    "    x_scaler = pickle.load(f)\n",
    "\n",
    "with open('y_scaler_minmax.pkl', 'rb') as f:\n",
    "    y_scaler = pickle.load(f)\n",
    "\n",
    "# Save the shape\n",
    "original_shape = X_input.shape\n",
    "\n",
    "# Step 1: Reshape to 2D (samples * timesteps, features)\n",
    "inputX_2d = X_input.reshape(-1, original_shape[2])  # shape: (1000, 5)\n",
    "\n",
    "# Step 2: Apply scaling\n",
    "inputX_scaled_2d = x_scaler.transform(inputX_2d)\n",
    "\n",
    "# Step 3: Reshape back to 3D\n",
    "inputX_scaled = inputX_scaled_2d.reshape(original_shape)\n"
   ]
  },
  {
   "cell_type": "code",
   "execution_count": 78,
   "id": "06a1fb97-eadf-4310-b732-0434ceefc7b4",
   "metadata": {},
   "outputs": [
    {
     "name": "stdout",
     "output_type": "stream",
     "text": [
      "\u001b[1m1/1\u001b[0m \u001b[32m━━━━━━━━━━━━━━━━━━━━\u001b[0m\u001b[37m\u001b[0m \u001b[1m2s\u001b[0m 2s/step\n"
     ]
    },
    {
     "data": {
      "text/plain": [
       "array([[0.24694511, 0.24579895, 0.24649513]], dtype=float32)"
      ]
     },
     "execution_count": 78,
     "metadata": {},
     "output_type": "execute_result"
    }
   ],
   "source": [
    "model = load_model('model.keras')\n",
    "predictions = model.predict(inputX_scaled)\n",
    "predictions"
   ]
  },
  {
   "cell_type": "code",
   "execution_count": 79,
   "id": "30066999-2f60-44c6-8731-1be6981bfdd4",
   "metadata": {},
   "outputs": [],
   "source": [
    "predictions = y_scaler.inverse_transform(predictions)"
   ]
  },
  {
   "cell_type": "code",
   "execution_count": 80,
   "id": "b505bac1-19dd-4570-9c30-e5889c883490",
   "metadata": {},
   "outputs": [
    {
     "data": {
      "text/plain": [
       "array([[102.71388 , 100.060905, 101.40776 ]], dtype=float32)"
      ]
     },
     "execution_count": 80,
     "metadata": {},
     "output_type": "execute_result"
    }
   ],
   "source": [
    "predictions"
   ]
  },
  {
   "cell_type": "code",
   "execution_count": 81,
   "id": "dbe91be3-9a0c-4eae-8bad-990ff067441d",
   "metadata": {},
   "outputs": [
    {
     "data": {
      "text/plain": [
       "array([[104.47000122, 100.05000305, 101.48999786]])"
      ]
     },
     "execution_count": 81,
     "metadata": {},
     "output_type": "execute_result"
    }
   ],
   "source": [
    "actual = target[-1:]\n",
    "actual = np.array(actual)\n",
    "actual"
   ]
  },
  {
   "cell_type": "code",
   "execution_count": 82,
   "id": "114a6f02-20bf-429f-8d3e-515f7d7072f0",
   "metadata": {},
   "outputs": [
    {
     "data": {
      "image/png": "[encoded data removed]",
      "text/plain": [
       "<Figure size 1000x500 with 1 Axes>"
      ]
     },
     "metadata": {},
     "output_type": "display_data"
    }
   ],
   "source": [
    "import matplotlib.pyplot as plt\n",
    "\n",
    "# Flatten both to 1D arrays\n",
    "actual_flat = actual.flatten()\n",
    "pred_flat = predictions.flatten()\n",
    "\n",
    "plt.figure(figsize=(10, 5))  # fixed size argument\n",
    "plt.plot(actual_flat, label='Actual', marker='o')\n",
    "plt.plot(pred_flat, label='Predicted', marker='x')\n",
    "plt.title(\"Today's Actual vs Predicted\")\n",
    "plt.xlabel(\"Features\")\n",
    "plt.ylabel(\"Value\")\n",
    "plt.xticks(range(len(actual_flat)), ['Feature 1', 'Feature 2', 'Feature 3'])  # Optional labels\n",
    "plt.legend()\n",
    "plt.grid(True)\n",
    "plt.show()\n"
   ]
  },
  {
   "cell_type": "code",
   "execution_count": null,
   "id": "97692d7d-018d-4e81-b6d2-37319b6ddaf0",
   "metadata": {},
   "outputs": [],
   "source": []
  },
  {
   "cell_type": "code",
   "execution_count": null,
   "id": "63c477a7-b8c3-419f-9173-ebbd40820b9b",
   "metadata": {},
   "outputs": [],
   "source": []
  },
  {
   "cell_type": "code",
   "execution_count": null,
   "id": "c1fa42ad-e966-4fb1-884b-1ade5d6f6b27",
   "metadata": {},
   "outputs": [],
   "source": []
  },
  {
   "cell_type": "code",
   "execution_count": null,
   "id": "db8f6ecc-d89d-4442-a7fb-e4a6aa5aa05a",
   "metadata": {},
   "outputs": [],
   "source": []
  },
  {
   "cell_type": "code",
   "execution_count": null,
   "id": "77765d1a-76ec-49a8-b4ac-8e59197b7d1b",
   "metadata": {},
   "outputs": [],
   "source": []
  },
  {
   "cell_type": "code",
   "execution_count": null,
   "id": "4c925d04-27d1-4ac6-bb58-2b9eb8469089",
   "metadata": {},
   "outputs": [],
   "source": []
  },
  {
   "cell_type": "code",
   "execution_count": null,
   "id": "9e7f40fd-7c4e-4266-b0fc-290ad304a0af",
   "metadata": {},
   "outputs": [],
   "source": []
  },
  {
   "cell_type": "code",
   "execution_count": null,
   "id": "cf4f52af-6cfd-4d4e-a942-70aa4dfbe317",
   "metadata": {},
   "outputs": [],
   "source": []
  }
 ],
 "metadata": {
  "kernelspec": {
   "display_name": "Python 3",
   "language": "python",
   "name": "python3"
  },
  "language_info": {
   "codemirror_mode": {
    "name": "ipython",
    "version": 3
   },
   "file_extension": ".py",
   "mimetype": "text/x-python",
   "name": "python",
   "nbconvert_exporter": "python",
   "pygments_lexer": "ipython3",
   "version": "3.10.18"
  }
 },
 "nbformat": 4,
 "nbformat_minor": 5
}
